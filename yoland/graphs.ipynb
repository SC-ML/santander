{
 "cells": [
  {
   "cell_type": "code",
   "execution_count": 6,
   "metadata": {
    "collapsed": false,
    "scrolled": true
   },
   "outputs": [],
   "source": [
    "import numpy as np\n",
    "import pandas\n",
    "from sklearn.linear_model import LogisticRegression\n",
    "from sklearn.cross_validation import KFold\n",
    "from sklearn import cross_validation"
   ]
  },
  {
   "cell_type": "code",
   "execution_count": 10,
   "metadata": {
    "collapsed": false
   },
   "outputs": [
    {
     "name": "stdout",
     "output_type": "stream",
     "text": [
      "           ncodpers  ind_nuevo      indrel  indrel_1mes  conyuemp  tipodom  \\\n",
      "count  9.990000e+02      998.0  998.000000        998.0       0.0    998.0   \n",
      "mean   1.051354e+06        0.0    1.098196          1.0       NaN      1.0   \n",
      "std    1.029442e+04        0.0    3.102136          0.0       NaN      0.0   \n",
      "min    1.050088e+06        0.0    1.000000          1.0       NaN      1.0   \n",
      "25%    1.050418e+06        NaN         NaN          NaN       NaN      NaN   \n",
      "50%    1.050779e+06        NaN         NaN          NaN       NaN      NaN   \n",
      "75%    1.051784e+06        NaN         NaN          NaN       NaN      NaN   \n",
      "max    1.375586e+06        0.0   99.000000          1.0       NaN      1.0   \n",
      "\n",
      "         cod_prov  ind_actividad_cliente          renta  ind_ahor_fin_ult1  \\\n",
      "count  998.000000             998.000000     834.000000              999.0   \n",
      "mean    28.033066               0.459920  105179.540468                0.0   \n",
      "std     15.404734               0.498641   86629.114594                0.0   \n",
      "min      2.000000               0.000000   13093.260000                0.0   \n",
      "25%           NaN                    NaN            NaN                0.0   \n",
      "50%           NaN                    NaN            NaN                0.0   \n",
      "75%           NaN                    NaN            NaN                0.0   \n",
      "max     52.000000               1.000000  926880.450000                0.0   \n",
      "\n",
      "            ...         ind_hip_fin_ult1  ind_plan_fin_ult1  \\\n",
      "count       ...                    999.0              999.0   \n",
      "mean        ...                      0.0                0.0   \n",
      "std         ...                      0.0                0.0   \n",
      "min         ...                      0.0                0.0   \n",
      "25%         ...                      0.0                0.0   \n",
      "50%         ...                      0.0                0.0   \n",
      "75%         ...                      0.0                0.0   \n",
      "max         ...                      0.0                0.0   \n",
      "\n",
      "       ind_pres_fin_ult1  ind_reca_fin_ult1  ind_tjcr_fin_ult1  \\\n",
      "count         999.000000         999.000000         999.000000   \n",
      "mean            0.001001           0.010010           0.011011   \n",
      "std             0.031639           0.099598           0.104406   \n",
      "min             0.000000           0.000000           0.000000   \n",
      "25%             0.000000           0.000000           0.000000   \n",
      "50%             0.000000           0.000000           0.000000   \n",
      "75%             0.000000           0.000000           0.000000   \n",
      "max             1.000000           1.000000           1.000000   \n",
      "\n",
      "       ind_valo_fin_ult1  ind_viv_fin_ult1  ind_nomina_ult1  \\\n",
      "count         999.000000             999.0       999.000000   \n",
      "mean            0.005005               0.0         0.019019   \n",
      "std             0.070604               0.0         0.136660   \n",
      "min             0.000000               0.0         0.000000   \n",
      "25%             0.000000               0.0         0.000000   \n",
      "50%             0.000000               0.0         0.000000   \n",
      "75%             0.000000               0.0         0.000000   \n",
      "max             1.000000               0.0         1.000000   \n",
      "\n",
      "       ind_nom_pens_ult1  ind_recibo_ult1  \n",
      "count         999.000000       999.000000  \n",
      "mean            0.021021         0.102102  \n",
      "std             0.143526         0.302934  \n",
      "min             0.000000         0.000000  \n",
      "25%             0.000000         0.000000  \n",
      "50%             0.000000         0.000000  \n",
      "75%             0.000000         0.000000  \n",
      "max             1.000000         1.000000  \n",
      "\n",
      "[8 rows x 33 columns]\n"
     ]
    },
    {
     "name": "stderr",
     "output_type": "stream",
     "text": [
      "/home/yoland/anaconda3/lib/python3.5/site-packages/numpy/lib/function_base.py:3834: RuntimeWarning: Invalid value encountered in percentile\n",
      "  RuntimeWarning)\n"
     ]
    }
   ],
   "source": [
    "train_set = pandas.read_csv(\"../gdata/train_first_1000.csv\")\n",
    "print(train_set.describe())"
   ]
  }
 ],
 "metadata": {
  "anaconda-cloud": {},
  "kernelspec": {
   "display_name": "Python [default]",
   "language": "python",
   "name": "python3"
  },
  "language_info": {
   "codemirror_mode": {
    "name": "ipython",
    "version": 3
   },
   "file_extension": ".py",
   "mimetype": "text/x-python",
   "name": "python",
   "nbconvert_exporter": "python",
   "pygments_lexer": "ipython3",
   "version": "3.5.2"
  }
 },
 "nbformat": 4,
 "nbformat_minor": 1
}
