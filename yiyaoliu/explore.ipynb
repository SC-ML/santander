{
 "cells": [
  {
   "cell_type": "code",
   "execution_count": 2,
   "metadata": {
    "collapsed": true
   },
   "outputs": [],
   "source": [
    "import pandas\n"
   ]
  },
  {
   "cell_type": "code",
   "execution_count": 24,
   "metadata": {
    "collapsed": false
   },
   "outputs": [],
   "source": [
    "dtype = {\n",
    "    \"fetch_date\": str,\n",
    "    \"customer_code\": str,\n",
    "    \"imployee_index\": str,\n",
    "    \"country_residence\": str,\n",
    "    \"sex\": str,\n",
    "    \"age\": str,\n",
    "    \"first_holder_date\": str,\n",
    "    \"is_new_customer\": bool,\n",
    "    \"customer_lengh_month\": str,\n",
    "    \"is_primary\": bool,\n",
    "    \"last_date_as_primary\": str,\n",
    "    \"customer_type\": str,\n",
    "    \"customer_relation_type\": str,\n",
    "    \"is_in_same_country\": bool,\n",
    "    \"is_foreigner\": bool,\n",
    "    \"is_spouse\": bool,\n",
    "    \"channel\": str,\n",
    "    \"is_deceased\": bool,\n",
    "    \"is_primary_address\": bool,\n",
    "    \"province_code\": str,\n",
    "    \"province_name\": str,\n",
    "    \"is_active\": bool,\n",
    "    \"household_income\": str,\n",
    "    \"segmentation\": str,\n",
    "    \"saving_account\": float,\n",
    "    \"guarantees\": float,\n",
    "    \"current_accounts\": float,\n",
    "    \"derivada_account\": float,\n",
    "    \"payroll_account\": float,\n",
    "    \"junior_account\": float,\n",
    "    \"más_particular_Account\": float,\n",
    "    \"particular_account\": float,\n",
    "    \"particular_plus_account\": float,\n",
    "    \"short_term_deposits\": float,\n",
    "    \"medium_term_deposits\": float,\n",
    "    \"long_term_deposits\": float,\n",
    "    \"e-account\": float,\n",
    "    \"funds\": float,\n",
    "    \"mortgage\": float,\n",
    "    \"pensions_1\": float,\n",
    "    \"loans\": float,\n",
    "    \"taxes\": float,\n",
    "    \"credit_card\": float,\n",
    "    \"securities\": float,\n",
    "    \"home_account\": float,\n",
    "    \"payroll\": float,\n",
    "    \"pensions_2\": float,\n",
    "    \"direct_debit\": float,\n",
    "}\n",
    "na_data = {\n",
    "    # \"age\": 0,\n",
    "    \"is_new_customer\": -1\n",
    "}\n",
    "bool_converter = lambda a: True if a == 'Y' else False\n",
    "\n",
    "converters = {\n",
    "    \"is_new_customer\": bool_converter,\n",
    "    \"is_primary\": bool_converter,\n",
    "    \"is_in_same_country\": bool_converter,\n",
    "    \"is_foreigner\": bool_converter,\n",
    "    \"is_spouse\": bool_converter,\n",
    "    \"is_deceased\": bool_converter,\n",
    "    \"is_primary_address\": bool_converter,\n",
    "    \"is_active\": bool_converter,\n",
    "}\n",
    "data = pandas.read_csv(\n",
    "    'train_ver2.csv', \n",
    "    # 'santander/gdata/train_first_1000.csv',\n",
    "    dtype=dtype,\n",
    "    na_values=['NA'],\n",
    "    keep_default_na=False,\n",
    "    converters=converters\n",
    "    # low_memory=False\n",
    ")"
   ]
  },
  {
   "cell_type": "code",
   "execution_count": 26,
   "metadata": {
    "collapsed": false
   },
   "outputs": [
    {
     "data": {
      "text/plain": [
       "(13647309, 48)"
      ]
     },
     "execution_count": 26,
     "metadata": {},
     "output_type": "execute_result"
    }
   ],
   "source": [
    "data.shape"
   ]
  }
 ],
 "metadata": {
  "kernelspec": {
   "display_name": "Python 2",
   "language": "python",
   "name": "python2"
  },
  "language_info": {
   "codemirror_mode": {
    "name": "ipython",
    "version": 2
   },
   "file_extension": ".py",
   "mimetype": "text/x-python",
   "name": "python",
   "nbconvert_exporter": "python",
   "pygments_lexer": "ipython2",
   "version": "2.7.10"
  }
 },
 "nbformat": 4,
 "nbformat_minor": 1
}
